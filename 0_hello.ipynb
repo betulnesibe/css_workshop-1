{
 "cells": [
  {
   "cell_type": "markdown",
   "id": "c9b71fd7",
   "metadata": {},
   "source": [
    "- ls\n",
    "- pwd nerede olduğumuzu gösteriyor\n",
    "- cd directory yapınca o kısma gidiyor. tab'e basarsan otomatik tamamlıyor."
   ]
  },
  {
   "cell_type": "markdown",
   "id": "82d8d08a",
   "metadata": {},
   "source": [
    "[] ile bağlantının nasıl gözükeceğini belirleyebiliyoruz."
   ]
  },
  {
   "cell_type": "markdown",
   "id": "aa4ef493",
   "metadata": {},
   "source": [
    "github ile bağlamak için aynı isimde olması lazım iki directory'nin"
   ]
  },
  {
   "cell_type": "markdown",
   "id": "3514cc2b",
   "metadata": {},
   "source": [
    "\n",
    "C:\\Users\\BBB>cd desktop\n",
    "\n",
    "C:\\Users\\BBB\\Desktop>cd socialcomquant_workshops\n",
    "\n",
    "C:\\Users\\BBB\\Desktop\\socialcomquant_workshops>git status\n",
    "On branch main\n",
    "\n",
    "No commits yet\n",
    "\n",
    "Changes to be committed:\n",
    "  (use \"git rm --cached <file>...\" to unstage)\n",
    "        new file:   .ipynb_checkpoints/0_hello-checkpoint.ipynb\n",
    "        new file:   0_hello.ipynb\n",
    "\n",
    "C:\\Users\\BBB\\Desktop\\socialcomquant_workshops>git add .\n",
    "\n",
    "C:\\Users\\BBB\\Desktop\\socialcomquant_workshops>git commit -m \"the_first\"\n",
    "[main (root-commit) 31d6102] the_first\n",
    " 2 files changed, 85 insertions(+)\n",
    " create mode 100644 .ipynb_checkpoints/0_hello-checkpoint.ipynb\n",
    " create mode 100644 0_hello.ipynb\n",
    "\n",
    "C:\\Users\\BBB\\Desktop\\socialcomquant_workshops>git push origin main\n",
    "info: please complete authentication in your browser...\n",
    "Enumerating objects: 5, done.\n",
    "Counting objects: 100% (5/5), done.\n",
    "Delta compression using up to 4 threads\n",
    "Compressing objects: 100% (5/5), done.\n",
    "Writing objects: 100% (5/5), 921 bytes | 921.00 KiB/s, done.\n",
    "Total 5 (delta 1), reused 0 (delta 0), pack-reused 0\n",
    "remote: Resolving deltas: 100% (1/1), done.\n",
    "remote: This repository moved. Please use the new location:\n",
    "remote:   https://github.com/betulnesibe/socialcomquant_workshops.git\n",
    "To https://github.com/betulnesibe/css_workshop.git\n",
    " * [new branch]      main -> main"
   ]
  },
  {
   "cell_type": "markdown",
   "id": "f26f5275",
   "metadata": {},
   "source": [
    "üstteki sırayla giderek github ile bağlanıyor. aynı zamanda ilk kez git init yaptıktan sonra github'daki repository'deki bağlantı kodunu da yazmak gerekebilir ama ikisi bağlandığı için gerek olmayabilir."
   ]
  }
 ],
 "metadata": {
  "kernelspec": {
   "display_name": "Python 3 (ipykernel)",
   "language": "python",
   "name": "python3"
  },
  "language_info": {
   "codemirror_mode": {
    "name": "ipython",
    "version": 3
   },
   "file_extension": ".py",
   "mimetype": "text/x-python",
   "name": "python",
   "nbconvert_exporter": "python",
   "pygments_lexer": "ipython3",
   "version": "3.8.13"
  }
 },
 "nbformat": 4,
 "nbformat_minor": 5
}
