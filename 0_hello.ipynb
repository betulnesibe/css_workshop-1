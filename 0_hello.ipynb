{
 "cells": [
  {
   "cell_type": "markdown",
   "id": "9e76e31f",
   "metadata": {},
   "source": [
    "# Introduction to Computational Social Science methods with Python"
   ]
  },
  {
   "cell_type": "markdown",
   "id": "004f6928",
   "metadata": {},
   "source": [
    "[Introduction to Computational Social Science methods with Python](https://github.com/socialcomquant/css_methods_python_workshop)"
   ]
  },
  {
   "cell_type": "code",
   "execution_count": 2,
   "id": "81dc1caf",
   "metadata": {},
   "outputs": [
    {
     "name": "stdout",
     "output_type": "stream",
     "text": [
      "hello world!\n"
     ]
    }
   ],
   "source": [
    "print(\"hello world!\")"
   ]
  },
  {
   "cell_type": "code",
   "execution_count": null,
   "id": "6d146349",
   "metadata": {},
   "outputs": [],
   "source": []
  }
 ],
 "metadata": {
  "kernelspec": {
   "display_name": "Python 3 (ipykernel)",
   "language": "python",
   "name": "python3"
  },
  "language_info": {
   "codemirror_mode": {
    "name": "ipython",
    "version": 3
   },
   "file_extension": ".py",
   "mimetype": "text/x-python",
   "name": "python",
   "nbconvert_exporter": "python",
   "pygments_lexer": "ipython3",
   "version": "3.8.13"
  }
 },
 "nbformat": 4,
 "nbformat_minor": 5
}
