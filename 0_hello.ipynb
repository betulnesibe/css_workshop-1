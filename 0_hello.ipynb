{
 "cells": [
  {
   "cell_type": "markdown",
   "id": "c9b71fd7",
   "metadata": {},
   "source": [
    "- ls\n",
    "- pwd nerede olduğumuzu gösteriyor\n",
    "- cd directory yapınca o kısma gidiyor. tab'e basarsan otomatik tamamlıyor."
   ]
  },
  {
   "cell_type": "markdown",
   "id": "82d8d08a",
   "metadata": {},
   "source": [
    "[] ile bağlantının nasıl gözükeceğini belirleyebiliyoruz."
   ]
  },
  {
   "cell_type": "code",
   "execution_count": null,
   "id": "887d085c",
   "metadata": {},
   "outputs": [],
   "source": []
  }
 ],
 "metadata": {
  "kernelspec": {
   "display_name": "Python 3 (ipykernel)",
   "language": "python",
   "name": "python3"
  },
  "language_info": {
   "codemirror_mode": {
    "name": "ipython",
    "version": 3
   },
   "file_extension": ".py",
   "mimetype": "text/x-python",
   "name": "python",
   "nbconvert_exporter": "python",
   "pygments_lexer": "ipython3",
   "version": "3.8.13"
  }
 },
 "nbformat": 4,
 "nbformat_minor": 5
}
