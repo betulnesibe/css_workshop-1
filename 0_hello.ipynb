{
 "cells": [
  {
   "cell_type": "markdown",
   "id": "fe11a863",
   "metadata": {},
   "source": [
    "# Introduction to Computational Social Science methods with Python"
   ]
  },
  {
   "cell_type": "markdown",
   "id": "ff443e2d",
   "metadata": {},
   "source": [
    "[Introduction to Computational Social Science methods with Python] ()"
   ]
  },
  {
   "cell_type": "code",
   "execution_count": null,
   "id": "956b6273",
   "metadata": {},
   "outputs": [],
   "source": [
    "print(\"hello world!\")"
   ]
  }
 ],
 "metadata": {
  "kernelspec": {
   "display_name": "Python 3 (ipykernel)",
   "language": "python",
   "name": "python3"
  },
  "language_info": {
   "codemirror_mode": {
    "name": "ipython",
    "version": 3
   },
   "file_extension": ".py",
   "mimetype": "text/x-python",
   "name": "python",
   "nbconvert_exporter": "python",
   "pygments_lexer": "ipython3",
   "version": "3.8.13"
  }
 },
 "nbformat": 4,
 "nbformat_minor": 5
}
